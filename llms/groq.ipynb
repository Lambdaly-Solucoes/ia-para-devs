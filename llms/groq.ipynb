{
 "cells": [
  {
   "cell_type": "code",
   "execution_count": null,
   "metadata": {},
   "outputs": [],
   "source": [
    "%pip install groq"
   ]
  },
  {
   "cell_type": "code",
   "execution_count": 2,
   "metadata": {},
   "outputs": [],
   "source": [
    "import os\n",
    "\n",
    "os.environ['GROQ_API_KEY'] = 'YOUR_API_KEY'"
   ]
  },
  {
   "cell_type": "code",
   "execution_count": 13,
   "metadata": {},
   "outputs": [
    {
     "name": "stdout",
     "output_type": "stream",
     "text": [
      "Em terras de algoritmos, onde bits e bytes se misturam,\n",
      "Há uma magia antiga que os programadores buscam: a Recursão.\n",
      "\n",
      "Um conceito encantado, que a complexidade desvenda,\n",
      "Envolvendo-se a si mesma, em uma dança sem fim.\n",
      "\n",
      "\"A função chama a si mesma, num loop sem fim?\n",
      "Isso é loucura!\" – você gritaria, se não soubéssem.\n",
      "Mas não tem medo, amigo, não há lógica que queima,\n",
      "Pois cada chamada tem um fim, um objetivo: a solução encontrar.\n",
      "\n",
      "Quando um problema é pequeno, a resposta é clara,\n",
      "Mas quanto maior se torna, mais intrincado se torna.\n",
      "É aí que a recursão brilha, em sua glória suprema,\n",
      "Quebra em partes menores, até o fim alcançar.\n",
      "\n",
      "Veja a Torre de Hanoi, com seus discos e postes,\n",
      "Como um castelo de areia, frágil e belo.\n",
      "Para mover o topo, a lógica é simples e direta,\n",
      "Mas quanto mais fundo se vai, mais complexo se torna.\n",
      "\n",
      "A recursão, como a Torre, em si mesma se baseia,\n",
      "Cada chamada é um andar, que se ergue e se completa.\n",
      "A base é o segredo, o passo que a loucura detém,\n",
      "Quando o problema encaixa, e a solução emerge.\n",
      "\n",
      "Não se assuste mais, com a misteriosa chamada,\n",
      "Que dentro da recursão, uma simples verdade se encerra:\n",
      "Dividir e conquistar, quanto menor, melhor,\n",
      "Até o problema acabar, e a solução se revelar.\n"
     ]
    }
   ],
   "source": [
    "from groq import Groq\n",
    "\n",
    "client = Groq()\n",
    "\n",
    "chat_completion = client.chat.completions.create(\n",
    "    messages=[\n",
    "        {\n",
    "            \"role\": \"system\",\n",
    "            \"content\": \"Você é um assistente poético, hábil em explicar conceitos complexos de programação com talento criativo.\"\n",
    "        },\n",
    "        {\n",
    "            \"role\": \"user\",\n",
    "            \"content\": \"Componha um poema que explique o conceito de recursão em programação.\",\n",
    "        }\n",
    "    ],\n",
    "    model=\"mixtral-8x7b-32768\",\n",
    "    temperature=0.5,\n",
    "    top_p=1,\n",
    "    stop=None,\n",
    "    stream=False,\n",
    ")\n",
    "\n",
    "print(chat_completion.choices[0].message.content)"
   ]
  }
 ],
 "metadata": {
  "kernelspec": {
   "display_name": ".venv",
   "language": "python",
   "name": "python3"
  },
  "language_info": {
   "codemirror_mode": {
    "name": "ipython",
    "version": 3
   },
   "file_extension": ".py",
   "mimetype": "text/x-python",
   "name": "python",
   "nbconvert_exporter": "python",
   "pygments_lexer": "ipython3",
   "version": "3.11.6"
  }
 },
 "nbformat": 4,
 "nbformat_minor": 2
}
