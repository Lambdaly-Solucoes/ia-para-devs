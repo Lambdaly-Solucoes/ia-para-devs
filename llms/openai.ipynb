{
 "cells": [
  {
   "cell_type": "code",
   "execution_count": null,
   "metadata": {},
   "outputs": [],
   "source": [
    "%pip install openai"
   ]
  },
  {
   "cell_type": "code",
   "execution_count": 2,
   "metadata": {},
   "outputs": [],
   "source": [
    "import os\n",
    "\n",
    "os.environ['OPENAI_API_KEY'] = 'YOUR_API_KEY'"
   ]
  },
  {
   "cell_type": "code",
   "execution_count": 6,
   "metadata": {},
   "outputs": [
    {
     "name": "stdout",
     "output_type": "stream",
     "text": [
      "Em um universo de algoritmos sem fim,\n",
      "Existe a bela arte do recursão, sublime jardim.\n",
      "Um processo em que a função chama a si mesma,\n",
      "Como um espelho refletindo sua própria cinesse.\n",
      "\n",
      "Um ato de se perder em labirintos matemáticos,\n",
      "Onde o programa se espraia em caminhos fantásticos.\n",
      "Cada chamada recursiva, um passo adiante no abismo,\n",
      "Até alcançar a base, o fim do lindo mecanismo.\n",
      "\n",
      "Assim como uma matrioska de códigos entranhados,\n",
      "A recursão desvenda segredos, desafios superados.\n",
      "Uma dança de voltas e reviravoltas, ceifando o medo,\n",
      "Revelando a beleza de um loop eterno, sem enleio.\n",
      "\n",
      "Oh, recursão, musa inspiradora da programação,\n",
      "Que em sua simplicidade esconde tamanha perfeição!\n",
      "Seja em Python, Java, C++, ou qualquer outra linguagem,\n",
      "Em cada chamada recursiva, ecoa tua sábia mensagem.\n",
      "\n",
      "Então, programador, deixe-se levar pela magia da recursão,\n",
      "Emerge nas profundezas, explore cada dimensão.\n",
      "Pois na teia de chamadas infinitas, descobrirá a essência,\n",
      "De como a repetição pode ser arte, em plena excelência.\n"
     ]
    }
   ],
   "source": [
    "from openai import OpenAI\n",
    "client = OpenAI()\n",
    "\n",
    "completion = client.chat.completions.create(\n",
    "  model=\"gpt-3.5-turbo\",\n",
    "  messages=[\n",
    "    {\"role\": \"system\", \"content\": \"Você é um assistente poético, hábil em explicar conceitos complexos de programação com talento criativo.\"},\n",
    "    {\"role\": \"user\", \"content\": \"Componha um poema que explique o conceito de recursão em programação.\"}\n",
    "  ]\n",
    ")\n",
    "\n",
    "print(completion.choices[0].message.content)"
   ]
  }
 ],
 "metadata": {
  "kernelspec": {
   "display_name": ".venv",
   "language": "python",
   "name": "python3"
  },
  "language_info": {
   "codemirror_mode": {
    "name": "ipython",
    "version": 3
   },
   "file_extension": ".py",
   "mimetype": "text/x-python",
   "name": "python",
   "nbconvert_exporter": "python",
   "pygments_lexer": "ipython3",
   "version": "3.11.6"
  }
 },
 "nbformat": 4,
 "nbformat_minor": 2
}
