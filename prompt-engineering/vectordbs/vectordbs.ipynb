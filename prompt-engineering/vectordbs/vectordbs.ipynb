{
 "cells": [
  {
   "cell_type": "code",
   "execution_count": null,
   "metadata": {},
   "outputs": [],
   "source": [
    "%pip install --upgrade --quiet langchain-pinecone langchain-openai langchain langchain-groq langchain-ai21"
   ]
  },
  {
   "cell_type": "code",
   "execution_count": 8,
   "metadata": {},
   "outputs": [],
   "source": [
    "import os\n",
    "\n",
    "# os.environ['OPENAI_API_KEY'] = 'YOUR_OPENAI_API_KEY'\n",
    "os.environ['GROQ_API_KEY'] = 'YOUR_GROQ_API_KEY'\n",
    "os.environ[\"AI21_API_KEY\"] = 'YOUR_AI21_API'\n",
    "os.environ[\"PINECONE_API_KEY\"] = 'YOUR_PINECONE_API_KEY'"
   ]
  },
  {
   "cell_type": "code",
   "execution_count": 11,
   "metadata": {},
   "outputs": [],
   "source": [
    "from langchain_community.document_loaders import TextLoader\n",
    "from langchain_text_splitters import CharacterTextSplitter\n",
    "\n",
    "# from langchain_openai import OpenAIEmbeddings\n",
    "from langchain_ai21 import AI21Embeddings\n",
    "\n",
    "loader = TextLoader(\"./historia-do-brasil.txt\")\n",
    "documents = loader.load()\n",
    "text_splitter = CharacterTextSplitter(chunk_size=100, chunk_overlap=0)\n",
    "docs = text_splitter.split_documents(documents)\n",
    "\n",
    "# embeddings = OpenAIEmbeddings()\n",
    "embeddings = AI21Embeddings()"
   ]
  },
  {
   "cell_type": "code",
   "execution_count": 12,
   "metadata": {},
   "outputs": [],
   "source": [
    "from langchain_pinecone import PineconeVectorStore\n",
    "\n",
    "index_name = \"historia-do-brasil\"\n",
    "\n",
    "docsearch = PineconeVectorStore.from_documents(docs, embeddings, index_name=index_name)"
   ]
  },
  {
   "cell_type": "code",
   "execution_count": null,
   "metadata": {},
   "outputs": [],
   "source": [
    "query = \"Colonização do Brasil\"\n",
    "docs = docsearch.similarity_search(query)\n",
    "for doc in docs:\n",
    "    print(doc)"
   ]
  },
  {
   "cell_type": "code",
   "execution_count": null,
   "metadata": {},
   "outputs": [],
   "source": [
    "query = \"Colonização do Brasil\"\n",
    "docs = docsearch.max_marginal_relevance_search(query) # MMR\n",
    "for doc in docs:\n",
    "    print(doc)"
   ]
  },
  {
   "cell_type": "markdown",
   "metadata": {},
   "source": [
    "### Diferenças Chave\n",
    "- Objetivo: A busca por similaridade foca em encontrar os itens mais semelhantes possível a uma consulta, enquanto MMR busca um equilíbrio entre relevância e diversidade dos resultados.\n",
    "\n",
    "- Métrica de Avaliação: Busca por similaridade utiliza métricas de similaridade para ordenar os resultados, enquanto MMR utiliza uma combinação de relevância e diversidade.\n",
    "\n",
    "- Aplicação: Busca por similaridade é útil quando o objetivo é encontrar os itens mais parecidos possíveis. MMR é preferível quando se deseja oferecer uma variedade de resultados relevantes, evitando redundância."
   ]
  }
 ],
 "metadata": {
  "kernelspec": {
   "display_name": ".venv",
   "language": "python",
   "name": "python3"
  },
  "language_info": {
   "codemirror_mode": {
    "name": "ipython",
    "version": 3
   },
   "file_extension": ".py",
   "mimetype": "text/x-python",
   "name": "python",
   "nbconvert_exporter": "python",
   "pygments_lexer": "ipython3",
   "version": "3.11.6"
  }
 },
 "nbformat": 4,
 "nbformat_minor": 2
}
